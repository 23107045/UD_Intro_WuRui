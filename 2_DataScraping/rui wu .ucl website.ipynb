{
 "cells": [
  {
   "cell_type": "code",
   "execution_count": 35,
   "id": "d2a11534-8034-4e3b-9e4b-ef4071622089",
   "metadata": {
    "tags": []
   },
   "outputs": [
    {
     "name": "stdout",
     "output_type": "stream",
     "text": [
      "Requirement already satisfied: selenium in d:\\anaconda\\lib\\site-packages (4.13.0)\n",
      "Requirement already satisfied: urllib3[socks]<3,>=1.26 in d:\\anaconda\\lib\\site-packages (from selenium) (1.26.16)\n",
      "Requirement already satisfied: trio~=0.17 in d:\\anaconda\\lib\\site-packages (from selenium) (0.22.2)\n",
      "Requirement already satisfied: trio-websocket~=0.9 in d:\\anaconda\\lib\\site-packages (from selenium) (0.11.1)\n",
      "Requirement already satisfied: certifi>=2021.10.8 in d:\\anaconda\\lib\\site-packages (from selenium) (2023.7.22)\n",
      "Requirement already satisfied: attrs>=20.1.0 in d:\\anaconda\\lib\\site-packages (from trio~=0.17->selenium) (22.1.0)\n",
      "Requirement already satisfied: sortedcontainers in d:\\anaconda\\lib\\site-packages (from trio~=0.17->selenium) (2.4.0)\n",
      "Requirement already satisfied: idna in d:\\anaconda\\lib\\site-packages (from trio~=0.17->selenium) (3.4)\n",
      "Requirement already satisfied: outcome in d:\\anaconda\\lib\\site-packages (from trio~=0.17->selenium) (1.2.0)\n",
      "Requirement already satisfied: sniffio in d:\\anaconda\\lib\\site-packages (from trio~=0.17->selenium) (1.2.0)\n",
      "Requirement already satisfied: cffi>=1.14 in d:\\anaconda\\lib\\site-packages (from trio~=0.17->selenium) (1.15.1)\n",
      "Requirement already satisfied: wsproto>=0.14 in d:\\anaconda\\lib\\site-packages (from trio-websocket~=0.9->selenium) (1.2.0)\n",
      "Requirement already satisfied: PySocks!=1.5.7,<2.0,>=1.5.6 in d:\\anaconda\\lib\\site-packages (from urllib3[socks]<3,>=1.26->selenium) (1.7.1)\n",
      "Requirement already satisfied: pycparser in d:\\anaconda\\lib\\site-packages (from cffi>=1.14->trio~=0.17->selenium) (2.21)\n",
      "Requirement already satisfied: h11<1,>=0.9.0 in d:\\anaconda\\lib\\site-packages (from wsproto>=0.14->trio-websocket~=0.9->selenium) (0.14.0)\n"
     ]
    }
   ],
   "source": [
    "!pip install selenium"
   ]
  },
  {
   "cell_type": "code",
   "execution_count": 36,
   "id": "75beb872-5119-4ed1-97bb-a2995059b419",
   "metadata": {
    "tags": []
   },
   "outputs": [],
   "source": [
    "import selenium \n",
    "from selenium import webdriver\n",
    "from selenium.webdriver.common.by import By\n",
    "from selenium.webdriver.common.keys import Keys\n",
    "from selenium.webdriver.support.ui import Select\n",
    "from selenium.webdriver.support.ui import WebDriverWait\n",
    "from selenium.webdriver.support import expected_conditions as EC\n",
    "from time import sleep"
   ]
  },
  {
   "cell_type": "code",
   "execution_count": 37,
   "id": "4de31279-b95f-4ec2-94e5-1ee3541c8388",
   "metadata": {
    "tags": []
   },
   "outputs": [],
   "source": [
    "url=\"https://www.ucl.ac.uk/\""
   ]
  },
  {
   "cell_type": "code",
   "execution_count": 38,
   "id": "291d3f06-dc53-468a-95b5-56fb109748c8",
   "metadata": {
    "tags": []
   },
   "outputs": [],
   "source": [
    "result_list = []\n",
    "website_list = []\n",
    "summary_list=[]\n",
    "link_list=[]"
   ]
  },
  {
   "cell_type": "code",
   "execution_count": 39,
   "id": "682b83c5-183a-4416-be81-04839da6d9d9",
   "metadata": {
    "tags": []
   },
   "outputs": [],
   "source": [
    "def extract_page_data(driver):\n",
    "    #Grab all results\n",
    "    results=driver.find_elements(\"class name\", \"result_title\")\n",
    "    #print(len(results))\n",
    "\n",
    "    #Create loop to itterate on the list\n",
    "    for b in range(len(results)):\n",
    "        try:          \n",
    "            #Extracting title\n",
    "            title = results[b].find_element(\"class name\",\"result_title\").text\n",
    "            #print(title)\n",
    "        \n",
    "            #Extraction of website\n",
    "            website = website[b].find_element(\"class name\",\"result_link\").text\n",
    "            #print(website)\n",
    "        \n",
    "            #Extraction of summary\n",
    "            summary = summary[b].find_element(\"class name\",\"result_summary\").text\n",
    "            #print(summary)\n",
    "            \n",
    "             #Extraction of link\n",
    "            link = link[b].find_element(\"link text\",title).get_attribute('href')\n",
    "            #print(link)\n",
    "        \n",
    "                  \n",
    "            #Add item to the respective lists\n",
    "            result_list.append(title)\n",
    "            website_list.append(website)\n",
    "            summary_list.append(summary)\n",
    "            link_list.append(link)\n",
    "            sleep(2)  \n",
    "        \n",
    "        except:\n",
    "            pass\n",
    "                       "
   ]
  },
  {
   "cell_type": "code",
   "execution_count": 40,
   "id": "c9635bb9-97a2-4068-affd-b0fb1ba87e9a",
   "metadata": {
    "tags": []
   },
   "outputs": [],
   "source": [
    "driver = webdriver.Chrome()\n",
    "driver.get(url)\n",
    "\n",
    "result_list = []\n",
    "website_list = []\n",
    "summary_list=[]\n",
    "link_list=[]\n",
    "\n",
    "#Step 1: identify the search\n",
    "search_query = driver.find_element(\"id\",\"global-search\")\n",
    "\n",
    "#Step 2: search a topic\n",
    "search_query.send_keys('postgraduate')\n",
    "search_query.send_keys(Keys.RETURN)\n",
    "#Delay (good practice)\n",
    "sleep(2)\n",
    "\n",
    "#Step 3: Execute the function for each page\n",
    "for page_num in range(0,3):\n",
    "    \n",
    "    #Execute the function \n",
    "    extract_page_data(driver)\n",
    "        \n",
    "    #Locate the \"Next\" button on the webpage and click it to navigate to the next page\n",
    "    driver.find_element(\"xpath\",\"//*[@id='main']/div[2]/div[3]/ol/li[11]/a\").click()\n",
    "\n",
    "#Close the webpage\n",
    "driver.quit()"
   ]
  },
  {
   "cell_type": "code",
   "execution_count": 34,
   "id": "36e8f530-fce9-4000-986b-2d6b818a92e2",
   "metadata": {
    "tags": []
   },
   "outputs": [],
   "source": [
    "#Import the library\n",
    "import csv \n",
    "\n",
    "#combine the lists\n",
    "data=zip(result_list,website_list,summary_list,link_list)\n",
    "\n",
    "#Write all the data to a csv\n",
    "with open('ucl.csv', 'w',newline='') as csvfile: \n",
    "    writer = csv.writer(csvfile) \n",
    "    for row in data:\n",
    "        writer.writerow(row)\n",
    "        \n",
    "#Write only links to a csv\n",
    "with open('onlylinks.csv', 'w',newline='') as csvfile: \n",
    "    writer = csv.writer(csvfile) \n",
    "    for link in link_list:\n",
    "        #print(row)\n",
    "        writer.writerow([link])"
   ]
  }
 ],
 "metadata": {
  "kernelspec": {
   "display_name": "Python 3 (ipykernel)",
   "language": "python",
   "name": "python3"
  },
  "language_info": {
   "codemirror_mode": {
    "name": "ipython",
    "version": 3
   },
   "file_extension": ".py",
   "mimetype": "text/x-python",
   "name": "python",
   "nbconvert_exporter": "python",
   "pygments_lexer": "ipython3",
   "version": "3.11.5"
  }
 },
 "nbformat": 4,
 "nbformat_minor": 5
}
