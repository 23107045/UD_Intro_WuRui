{
 "cells": [
  {
   "cell_type": "markdown",
   "id": "529d91ae",
   "metadata": {},
   "source": [
    "# Exercise 00\n",
    "Write a bit of code that prints _Introduction to Programming_ to the console and execute the cell"
   ]
  },
  {
   "cell_type": "code",
   "execution_count": 132,
   "id": "98711beb",
   "metadata": {},
   "outputs": [
    {
     "name": "stdout",
     "output_type": "stream",
     "text": [
      "Introduction to Programming\n"
     ]
    }
   ],
   "source": [
    "print(\"Introduction to Programming\")"
   ]
  },
  {
   "cell_type": "markdown",
   "id": "63ad5023",
   "metadata": {},
   "source": [
    "-----------------------------------------------------------------------------\n",
    "# Exercise 01\n",
    "Hello World is traditionally the first program anyone writes. It is\n",
    "very simple and the only thing it should do is print Hello World! to the\n",
    "terminal window.\n",
    "Create a file called HelloWorld.py and edit the contents so it prints Hello World! to the terminal and execute it using the command line."
   ]
  },
  {
   "cell_type": "markdown",
   "id": "a4a7c4c2",
   "metadata": {},
   "source": [
    "-----------------------------------------------------------------------------\n",
    "# Exercise 02\n",
    "Write some code to print your name, email, and age on separate lines. For each element first assign it to a variable and use the variable to print. \n",
    "\n",
    "Bonus: try to create the print statement for all variable in one line of code. (hint: '\\n' is the character for a new line)"
   ]
  },
  {
   "cell_type": "code",
   "execution_count": 9,
   "id": "fc8fface",
   "metadata": {},
   "outputs": [
    {
     "name": "stdout",
     "output_type": "stream",
     "text": [
      "rui wu\n",
      "ucbvrw2@ucl.ac.uk\n",
      "23\n"
     ]
    }
   ],
   "source": [
    "name = \"rui wu\"\n",
    "email = \"ucbvrw2@ucl.ac.uk\"\n",
    "age = \"23\"\n",
    "print(name+\"\\n\"+email+\"\\n\"+age)"
   ]
  },
  {
   "cell_type": "markdown",
   "id": "0dd1c1d1",
   "metadata": {},
   "source": [
    "-----------------------------------------------------------------------------\n",
    "# Exercise 03\n",
    "Print the numbers 0, 178, -21, 2938 divided by 49, 436 multiplied with 9948 and 12 to the power of 20\n",
    "\n",
    "(Hint: Look up the documentation of basic arithmetic operators)"
   ]
  },
  {
   "cell_type": "code",
   "execution_count": 14,
   "id": "f3d5d009",
   "metadata": {},
   "outputs": [
    {
     "name": "stdout",
     "output_type": "stream",
     "text": [
      "0\n",
      "178\n",
      "-21\n",
      "59.95918367346939\n",
      "4337328\n",
      "3833759992447475122176\n"
     ]
    }
   ],
   "source": [
    "print(0)\n",
    "print(178)\n",
    "print(-21)\n",
    "print(2938/49)\n",
    "print(436*9948)\n",
    "print(12**20)"
   ]
  },
  {
   "cell_type": "markdown",
   "id": "1f151455",
   "metadata": {},
   "source": [
    "-----------------------------------------------------------------------------\n",
    "# Exercise 04\n",
    "Print sin(200), cos(100), tan($\\pi$/4)\n",
    "\n",
    "(Hint: Look up for how to use trigonometric function, and how to get the value of $\\pi$.)"
   ]
  },
  {
   "cell_type": "code",
   "execution_count": 16,
   "id": "d0e37690",
   "metadata": {},
   "outputs": [
    {
     "name": "stdout",
     "output_type": "stream",
     "text": [
      "-0.8732972972139946\n",
      "0.8623188722876839\n",
      "0.9999999999999999\n"
     ]
    }
   ],
   "source": [
    "import math\n",
    "print(math.sin(200))\n",
    "print(math.cos(100))\n",
    "print(math.tan(math.pi/4))"
   ]
  },
  {
   "cell_type": "markdown",
   "id": "9d026820",
   "metadata": {},
   "source": [
    "-----------------------------------------------------------------------------\n",
    "# Exercise 05\n",
    "Write a program to read your first and last names from the console seperately, and then print them on the console together, separated by a space."
   ]
  },
  {
   "cell_type": "code",
   "execution_count": 18,
   "id": "4c7217e0",
   "metadata": {},
   "outputs": [
    {
     "name": "stdout",
     "output_type": "stream",
     "text": [
      "rui\n",
      "wu\n",
      "rui wu\n"
     ]
    }
   ],
   "source": [
    "first = input()\n",
    "last = input()\n",
    "print(first+\" \"+last)"
   ]
  },
  {
   "cell_type": "markdown",
   "id": "e83fa346",
   "metadata": {},
   "source": [
    "-----------------------------------------------------------------------------\n",
    "# Exercise 06\n",
    "Write a program that determines whether a number given as user input is positive or negative\n",
    " \n",
    "You will need to convert the console input from a string to a number first!"
   ]
  },
  {
   "cell_type": "code",
   "execution_count": 35,
   "id": "ecd924c2",
   "metadata": {},
   "outputs": [
    {
     "name": "stdout",
     "output_type": "stream",
     "text": [
      "1\n",
      "Your input is 1, which is a positive number.\n"
     ]
    }
   ],
   "source": [
    "a=input()\n",
    "if int(a)>0:\n",
    "    print(\"Your input is \"+a+\", which is a positive number.\")\n",
    "elif int(a)==0:\n",
    "    print(\"Your input is \"+a+\", which is neither a positive number nor a negative number.\")\n",
    "else:\n",
    "    print(\"Your input is \"+a+\", which is a negative number.\")"
   ]
  },
  {
   "cell_type": "markdown",
   "id": "2a192596",
   "metadata": {},
   "source": [
    "-----------------------------------------------------------------------------\n",
    "# Exercise 07\n",
    "Write a program that picks a random number between 1-20 and makes the user guess until they get the number right. Then print a congratulations message\n",
    "- (Find out yourself how to generate a random integer)\n",
    "- Bonus: make the user choose the range within which they have to guess\n",
    "- Bonus: keep track of how many guesses were made and print this at the end"
   ]
  },
  {
   "cell_type": "code",
   "execution_count": 50,
   "id": "70358dd3",
   "metadata": {},
   "outputs": [
    {
     "name": "stdout",
     "output_type": "stream",
     "text": [
      "Lets guess the number!\n",
      "6\n",
      "You are wrong! The right number is 4\n"
     ]
    }
   ],
   "source": [
    "from random import randrange\n",
    "number = randrange(1,21)\n",
    "print(\"Lets guess the number!\")\n",
    "guess = input()\n",
    "if(number==int(guess)):\n",
    "    print(\"Congratulations!\")\n",
    "else:\n",
    "    print(\"You are wrong! The right number is \"+str(number))"
   ]
  },
  {
   "cell_type": "code",
   "execution_count": 47,
   "id": "22ebf852",
   "metadata": {},
   "outputs": [
    {
     "name": "stdout",
     "output_type": "stream",
     "text": [
      "Please choose the range within which you want to guess\n",
      "50\n",
      "Please guess the number\n",
      "6\n",
      "You are wrong!\n"
     ]
    }
   ],
   "source": [
    "from random import randrange\n",
    "print(\"Please choose the range within which you want to guess\")\n",
    "choose = input()\n",
    "number = randrange(int(choose))\n",
    "print(\"Please guess the number\")\n",
    "guess = input()\n",
    "if(number==int(guess)):\n",
    "    print(\"Congratulations!\")\n",
    "else:\n",
    "    print(\"You are wrong!\")"
   ]
  },
  {
   "cell_type": "code",
   "execution_count": 63,
   "id": "413a12cb",
   "metadata": {},
   "outputs": [
    {
     "name": "stdout",
     "output_type": "stream",
     "text": [
      "Lets guess the number!\n",
      "1\n",
      "You are wrong! Continue!\n",
      "2\n",
      "You are wrong! Continue!\n",
      "3\n",
      "You are wrong! Continue!\n",
      "4\n",
      "You are wrong! Continue!\n",
      "5\n",
      "You are wrong! Continue!\n",
      "6\n",
      "You are wrong! Continue!\n",
      "7\n",
      "You are wrong! Continue!\n",
      "8\n",
      "You are wrong! Continue!\n",
      "9\n",
      "You are wrong! Continue!\n",
      "10\n",
      "You are wrong! Continue!\n",
      "11\n",
      "Congratulations!\n"
     ]
    }
   ],
   "source": [
    "from random import randrange\n",
    "number = randrange(1, 21)\n",
    "print(\"Lets guess the number!\")\n",
    "guess = int(input())\n",
    "while(number!=guess):\n",
    "    print(\"You are wrong! Continue!\")\n",
    "    guess = int(input())\n",
    "print(\"Congratulations!\")"
   ]
  },
  {
   "cell_type": "markdown",
   "id": "d53b9c07",
   "metadata": {},
   "source": [
    "-----------------------------------------------------------------------------\n",
    "# Exercise 08\n",
    "Ask a sentence as input, then print the words in alphabetical order.\n",
    "Hint: look up how to split up a string"
   ]
  },
  {
   "cell_type": "code",
   "execution_count": 77,
   "id": "b6524cf5",
   "metadata": {},
   "outputs": [
    {
     "name": "stdout",
     "output_type": "stream",
     "text": [
      "rui wu is a beautiful girl!\n",
      "a\n",
      "beautiful\n",
      "girl!\n",
      "is\n",
      "rui\n",
      "wu\n"
     ]
    }
   ],
   "source": [
    "sentence = input().split()\n",
    "sentence.sort()\n",
    "for i in sentence:\n",
    "    print(i)"
   ]
  },
  {
   "cell_type": "markdown",
   "id": "09a7b060",
   "metadata": {},
   "source": [
    "-----------------------------------------------------------------------------\n",
    "# Exercise 09\n",
    "Write a program using for loops to print a christmas tree of x lines high\n",
    "specified by the user.\n",
    "(use for loops)\n",
    "so for instance, a chrismas tree of 4 high should looks like this:\n",
    "\n",
    "```\n",
    "\n",
    "    *\n",
    "   ***\n",
    "  *****\n",
    " *******\n",
    "    |\n",
    "\n",
    "```\n",
    "\n",
    "hint: first combine strings into a variable before printing"
   ]
  },
  {
   "cell_type": "code",
   "execution_count": 96,
   "id": "5150f7a4",
   "metadata": {},
   "outputs": [
    {
     "name": "stdout",
     "output_type": "stream",
     "text": [
      "10\n",
      "         *\n",
      "        ***\n",
      "       *****\n",
      "      *******\n",
      "     *********\n",
      "    ***********\n",
      "   *************\n",
      "  ***************\n",
      " *****************\n",
      "*******************\n",
      "         |\n"
     ]
    }
   ],
   "source": [
    "height = int(input())\n",
    "for i in range(1,height+1):\n",
    "    tree = (2*i-1)*\"*\"\n",
    "    space = (height-i)*\" \"\n",
    "    christmas = space+tree\n",
    "    print(christmas)\n",
    "print((height-1)*\" \"+\"|\")"
   ]
  },
  {
   "cell_type": "markdown",
   "id": "07f67531",
   "metadata": {},
   "source": [
    "-----------------------------------------------------------------------------\n",
    "# Exercise 10\n",
    "Write a piece of code that prints the first $n$ numbers of the padovan sequence"
   ]
  },
  {
   "cell_type": "code",
   "execution_count": 142,
   "id": "b32d6134",
   "metadata": {
    "scrolled": true
   },
   "outputs": [
    {
     "name": "stdout",
     "output_type": "stream",
     "text": [
      "20\n",
      "1\n",
      "1\n",
      "1\n",
      "2\n",
      "2\n",
      "3\n",
      "4\n",
      "5\n",
      "7\n",
      "9\n",
      "12\n",
      "16\n",
      "21\n",
      "28\n",
      "37\n",
      "49\n",
      "65\n",
      "86\n",
      "114\n",
      "151\n"
     ]
    }
   ],
   "source": [
    "P0 = 1\n",
    "P1 = 1\n",
    "P2 = 1\n",
    "n=int(input())\n",
    "if n>3:\n",
    "    for i in range(n):\n",
    "        print(P0)\n",
    "        a = P0+P1\n",
    "        P0 = P1\n",
    "        P1 = P2\n",
    "        P2 = a\n",
    "else:\n",
    "    for i in range(n):\n",
    "        print(P0)"
   ]
  }
 ],
 "metadata": {
  "kernelspec": {
   "display_name": "Python 3 (ipykernel)",
   "language": "python",
   "name": "python3"
  },
  "language_info": {
   "codemirror_mode": {
    "name": "ipython",
    "version": 3
   },
   "file_extension": ".py",
   "mimetype": "text/x-python",
   "name": "python",
   "nbconvert_exporter": "python",
   "pygments_lexer": "ipython3",
   "version": "3.11.5"
  }
 },
 "nbformat": 4,
 "nbformat_minor": 5
}
