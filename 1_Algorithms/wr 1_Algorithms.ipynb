{
 "cells": [
  {
   "cell_type": "markdown",
   "id": "38e188a5",
   "metadata": {},
   "source": [
    "# Exercise 00\n",
    "Write a piece of code that allocates a list of 20 integers and initializes each element by its index multiplied by 5. Print the result."
   ]
  },
  {
   "cell_type": "code",
   "execution_count": 3,
   "id": "01aa4f35",
   "metadata": {},
   "outputs": [
    {
     "name": "stdout",
     "output_type": "stream",
     "text": [
      "[0, 5, 10, 15, 20, 25, 30, 35, 40, 45, 50, 55, 60, 65, 70, 75, 80, 85, 90, 95]\n"
     ]
    }
   ],
   "source": [
    "a = []\n",
    "for i in range(20):\n",
    "    a.append(i*5)\n",
    "print(a)"
   ]
  },
  {
   "cell_type": "markdown",
   "id": "529d91ae",
   "metadata": {},
   "source": [
    "# Exercise 01\n",
    "Define a function that takes an integer as input, prints  all integers that it is divisable by, and returns the largest one."
   ]
  },
  {
   "cell_type": "code",
   "execution_count": 7,
   "id": "30e79132",
   "metadata": {},
   "outputs": [
    {
     "name": "stdout",
     "output_type": "stream",
     "text": [
      "[1, 2, 5]\n",
      "5\n"
     ]
    }
   ],
   "source": [
    "def wr(x):\n",
    "    lst=[]\n",
    "    for i in range(1,x):\n",
    "        if x%i == 0:\n",
    "            lst.append(i)\n",
    "    print(lst)\n",
    "    return lst[-1]\n",
    "\n",
    "test = wr(10)\n",
    "print(test)"
   ]
  },
  {
   "cell_type": "code",
   "execution_count": 21,
   "id": "cc250ddc",
   "metadata": {},
   "outputs": [
    {
     "name": "stdout",
     "output_type": "stream",
     "text": [
      "[1, 2, 5, 10]\n",
      "10\n"
     ]
    }
   ],
   "source": [
    "def wr(x):\n",
    "    lst=[]\n",
    "    for i in range(1,x+1):\n",
    "        if x%i == 0:\n",
    "            lst.append(i)\n",
    "    print(lst)\n",
    "    return lst[-1]\n",
    "\n",
    "test = wr(10)\n",
    "print(test)"
   ]
  },
  {
   "cell_type": "markdown",
   "id": "cfbe30d4",
   "metadata": {},
   "source": [
    "# Exercise 02\n",
    "- create a dictionary with 6 keys and values of your choice\n",
    "- write a function that takes a dictionary and a value as input and returns whether the value occurs as a key in the dictionary\n",
    "- write a function that takes a dictionary as input, and returns the dictionary but the keys are swapped with their values (resolve the issue if a value occurs twice!)"
   ]
  },
  {
   "cell_type": "code",
   "execution_count": 20,
   "id": "2123f1c6",
   "metadata": {},
   "outputs": [
    {
     "name": "stdout",
     "output_type": "stream",
     "text": [
      "True\n",
      "{'cxy': '618a', 'wr': '618b', 'unknown': '618c', 'cute': '618d', 'bad': '618e', 'cute occurs twice!': '704a'}\n"
     ]
    }
   ],
   "source": [
    "iq = {\n",
    "    \"618a\":\"cxy\",\n",
    "    \"618b\":\"wr\",\n",
    "    \"618c\":\"unknown\",\n",
    "    \"618d\":\"cute\",\n",
    "    \"618e\":\"bad\",\n",
    "    \"704a\":\"cute\"}\n",
    "\n",
    "def search_iq(dic, val):\n",
    "    keys = dic.keys()\n",
    "    for k in keys:\n",
    "        if val==k:\n",
    "            return True\n",
    "    return False\n",
    "\n",
    "def swapped_iq(dic):\n",
    "    swapped_dic = {}\n",
    "    for key, value in dic.items():\n",
    "        if search_iq(swapped_dic, value):\n",
    "            value += \" occurs twice!\"\n",
    "            swapped_dic[value] = key\n",
    "        else:\n",
    "            swapped_dic[value] = key\n",
    "    return swapped_dic\n",
    "\n",
    "search_result = search_iq(iq, \"704a\")\n",
    "print(search_result)\n",
    "swapped_result = swapped_iq(iq)\n",
    "print(swapped_result)"
   ]
  },
  {
   "cell_type": "markdown",
   "id": "b4b4e426",
   "metadata": {},
   "source": [
    "# Exercise 03\n",
    "Define a function that creates a dictionary of the first n fibonacci numbers as values paired with their indices as keys. "
   ]
  },
  {
   "cell_type": "code",
   "execution_count": 3,
   "id": "8a2dc54a",
   "metadata": {},
   "outputs": [
    {
     "name": "stdout",
     "output_type": "stream",
     "text": [
      "{1: 1, 2: 1, 3: 2, 4: 3, 5: 5, 6: 8, 7: 13, 8: 21, 9: 34, 10: 55}\n"
     ]
    }
   ],
   "source": [
    "def dic_fib(n):\n",
    "    dic = {}\n",
    "    fib_lst = []\n",
    "    n1, n2 = 0, 1\n",
    "    while (len(fib_lst)<n):\n",
    "        m=n1+n2\n",
    "        n1=n2\n",
    "        n2=m\n",
    "        fib_lst.append(n1)\n",
    "    for i in range(n):\n",
    "        dic[i+1]=fib_lst[i]\n",
    "    return dic\n",
    "\n",
    "test = dic_fib(10)\n",
    "print(test)\n",
    "        "
   ]
  }
 ],
 "metadata": {
  "kernelspec": {
   "display_name": "Python 3 (ipykernel)",
   "language": "python",
   "name": "python3"
  },
  "language_info": {
   "codemirror_mode": {
    "name": "ipython",
    "version": 3
   },
   "file_extension": ".py",
   "mimetype": "text/x-python",
   "name": "python",
   "nbconvert_exporter": "python",
   "pygments_lexer": "ipython3",
   "version": "3.11.5"
  }
 },
 "nbformat": 4,
 "nbformat_minor": 5
}
